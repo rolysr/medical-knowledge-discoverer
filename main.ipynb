{
  "cells": [
    {
      "cell_type": "code",
      "execution_count": null,
      "metadata": {
        "colab": {
          "base_uri": "https://localhost:8080/"
        },
        "id": "oN1uMOAJZNBS",
        "outputId": "16b2b802-920e-482f-b1fe-e4f4c30c645e"
      },
      "outputs": [],
      "source": [
        "# CLONE REPOSITORY\n",
        "!git clone --branch T5 https://github.com/rolysr/medical-knowledge-discoverer"
      ]
    },
    {
      "cell_type": "code",
      "execution_count": null,
      "metadata": {
        "colab": {
          "base_uri": "https://localhost:8080/"
        },
        "id": "sUKXBXTbLRH_",
        "outputId": "09062000-9e39-45b3-8861-6b8ff3bcb729"
      },
      "outputs": [],
      "source": [
        "# MOVE TO PROJECT\n",
        "%cd medical-knowledge-discoverer/"
      ]
    },
    {
      "cell_type": "code",
      "execution_count": null,
      "metadata": {
        "colab": {
          "base_uri": "https://localhost:8080/",
          "height": 1000
        },
        "id": "pZ2c_h4DZXmO",
        "outputId": "0e35b82c-16b2-4b50-b39d-65733796adac"
      },
      "outputs": [],
      "source": [
        "# INSTALLS\n",
        "%pip install simplet5 fasttext\n",
        "!python -m spacy download es_core_news_sm en_core_web_sm"
      ]
    },
    {
      "cell_type": "code",
      "execution_count": null,
      "metadata": {
        "colab": {
          "base_uri": "https://localhost:8080/"
        },
        "id": "1gVQy-_1ydqx",
        "outputId": "cf32dff1-b528-46d7-ba5a-4f604f5b877d"
      },
      "outputs": [],
      "source": [
        "# IMPORTS\n",
        "import os\n",
        "from pathlib import Path\n",
        "from simplet5 import SimpleT5\n",
        "from rich.progress import track\n",
        "from sklearn.model_selection import train_test_split\n",
        "from sklearn.metrics import precision_score, recall_score, f1_score\n",
        "\n",
        "# FROM PROJECT\n",
        "from utils.anntools import Collection\n",
        "\n",
        "\n",
        "# MODELS\n",
        "from models.T5.t5 import T5\n",
        "from models.NER.ner import NER\n"
      ]
    },
    {
      "cell_type": "code",
      "execution_count": 2,
      "metadata": {
        "id": "Xh5mYn0R3HoJ"
      },
      "outputs": [],
      "source": [
        "# T5 MODEL\n",
        "t5 = T5()\n",
        "\n",
        "# OUTPUT\n",
        "output_path = Path('./output')\n",
        "os.makedirs(output_path, exist_ok=True)\n",
        "\n",
        "# TRAIN PATH\n",
        "train_path = Path('./datasets/train')\n",
        "csv_train_file = './models/T5/re_train.csv'\n",
        "\n",
        "# GENERATE TRAIN DATA\n",
        "test_collection = Collection().load_dir(train_path)\n",
        "train_dataset = t5.generate_t5_input_output_format(test_collection)\n",
        "MAX_INPUT_TOKENS = max([len(data[0]) for data in train_dataset])\n",
        "MAX_OUTPUT_TOKENS = max([len(data[1]) for data in train_dataset])\n",
        "t5.generate_csv(train_dataset, csv_train_file)"
      ]
    },
    {
      "cell_type": "code",
      "execution_count": null,
      "metadata": {
        "id": "TzpW03KKIuxU"
      },
      "outputs": [],
      "source": [
        "# TRAIN MODEL\n",
        "# TRAIN A MODEL FROM SCRATCH AND SAVE EACH EPOCH IN DIFFERENT FILES\n",
        "model = SimpleT5()\n",
        "\n",
        "t5.generate_csv(train_dataset, str(csv_train_file))\n",
        "df = t5.load_csv(str(csv_train_file))\n",
        "train_df, test_df = train_test_split(df, test_size=0.1)\n",
        "\n",
        "model.from_pretrained(model_type=\"t5\", model_name=\"t5-base\")\n",
        "\n",
        "print('Training...')\n",
        "model.train(train_df=train_df,\n",
        "            eval_df=test_df, \n",
        "            source_max_token_len=MAX_INPUT_TOKENS + 50, \n",
        "            target_max_token_len=MAX_OUTPUT_TOKENS + 8, \n",
        "            batch_size=8,\n",
        "            max_epochs=4,\n",
        "            use_gpu=True,\n",
        "            outputdir=output_path\n",
        ")"
      ]
    },
    {
      "cell_type": "code",
      "execution_count": null,
      "metadata": {
        "id": "yoJbGCJ8ydq0"
      },
      "outputs": [],
      "source": [
        "# # SELECT MODEL\n",
        "!ls ./output"
      ]
    },
    {
      "cell_type": "code",
      "execution_count": null,
      "metadata": {
        "id": "cE3f76wPydq1"
      },
      "outputs": [],
      "source": [
        "# SELECT MODEL\n",
        "trained_model = '< model name >'"
      ]
    },
    {
      "cell_type": "code",
      "execution_count": null,
      "metadata": {
        "id": "cI0D6Wd9ydq3"
      },
      "outputs": [],
      "source": [
        "# LOAD TRAINED MODEL\n",
        "model = SimpleT5()\n",
        "model.load_model('t5', trained_model, use_gpu=False)\n",
        "t5.model = model"
      ]
    },
    {
      "cell_type": "code",
      "execution_count": null,
      "metadata": {
        "colab": {
          "base_uri": "https://localhost:8080/",
          "height": 1000,
          "referenced_widgets": [
            "48efb55f21494196b2434d5bb8be99ed",
            "80f98d6943724705827b200bce07acd5"
          ]
        },
        "id": "EbNyzlBiydq4",
        "outputId": "edee96a6-5781-40b3-9351-bf501ab60c4e"
      },
      "outputs": [],
      "source": [
        "# NER MODEL\n",
        "ner = NER()\n",
        "\n",
        "# TRAINING NER MODEL\n",
        "train_collection = Collection().load_dir(train_path)\n",
        "ner.train(train_collection)\n"
      ]
    },
    {
      "cell_type": "code",
      "execution_count": 16,
      "metadata": {
        "id": "0gVgKIwR8GLI"
      },
      "outputs": [],
      "source": [
        "# EVALUATION\n",
        "def eval(test_collection: Collection, ner_collection: Collection, model):\n",
        "    \n",
        "    CORRECT, MISSING, SPURIOUS, INCORRECT = 0, 0, 0, 0\n",
        "\n",
        "    for n, sentences in enumerate(zip(test_collection.sentences, ner_collection.sentences)):\n",
        "        print('n', n+1)\n",
        "        test_sentence, ner_sentence = sentences\n",
        "        \n",
        "        test = {}\n",
        "        for test_relation in test_sentence.relations:\n",
        "            origin = test_relation.from_phrase\n",
        "            origin_text = origin.text.lower()\n",
        "            destination = test_relation.to_phrase\n",
        "            destination_text = destination.text.lower()\n",
        "\n",
        "            input_text = t5.get_marked_sentence_t5_input_format(test_sentence.text, origin_text, origin.label, destination_text, destination.label)\n",
        "            output_text = t5.get_t5_output_format(origin_text, origin.label, destination_text, destination.label, test_relation.label)\n",
        "            \n",
        "            test[test_relation] = output_text\n",
        "\n",
        "        results= {}\n",
        "        for ner_relation in ner_sentence.relations:\n",
        "            origin = ner_relation.from_phrase\n",
        "            origin_text = origin.text.lower()\n",
        "            destination = ner_relation.to_phrase\n",
        "            destination_text = destination.text.lower()\n",
        "\n",
        "            #making the pair\n",
        "            input_text = t5.get_marked_sentence_t5_input_format(ner_sentence.text, origin_text, origin.label, destination_text, destination.label)\n",
        "\n",
        "            results[ner_relation] = model.predict(input_text)[0]\n",
        "        \n",
        "        \n",
        "        for i in test.copy():\n",
        "            if results.get(i) is not None:\n",
        "                if results[i] == test[i]:\n",
        "                    CORRECT += 1\n",
        "                    results.pop(i)\n",
        "                    test.pop(i)\n",
        "                else:\n",
        "                    INCORRECT += 1\n",
        "                    results.pop(i)\n",
        "                    test.pop(i)\n",
        "        \n",
        "        SPURIOUS += len(results)\n",
        "        MISSING += len(test)\n",
        "\n",
        "\n",
        "    return CORRECT, MISSING, SPURIOUS, INCORRECT"
      ]
    },
    {
      "cell_type": "code",
      "execution_count": null,
      "metadata": {
        "id": "PnqiuW4LKjST"
      },
      "outputs": [],
      "source": [
        "# RE EVALUATION\n",
        "test_path = Path('./datasets/test/scenario1-main')\n",
        "csv_test_file = Path('models/T5/re_test.csv')\n",
        "test_collection = Collection().load_dir(test_path)\n",
        "\n",
        "# EVALUATE NER\n",
        "ner_collection = ner.run(test_collection)\n",
        "\n",
        "print(len(test_collection), len(ner_collection))\n",
        "CORRECT, MISSING, SPURIOUS, INCORRECT = eval(test_collection, ner_collection, model)"
      ]
    },
    {
      "cell_type": "code",
      "execution_count": null,
      "metadata": {
        "id": "D0rH2UbhCho9"
      },
      "outputs": [],
      "source": [
        "# SHOW RESULTS\n",
        "precision = CORRECT / (CORRECT + MISSING + INCORRECT) if (CORRECT + MISSING + INCORRECT) > 0 else 0\n",
        "recall = CORRECT / (CORRECT + SPURIOUS + INCORRECT) if (CORRECT + SPURIOUS + INCORRECT) > 0 else 0\n",
        "f1 = (2 * precision * recall) / (precision + recall) if (precision + recall) > 0 else 0\n",
        "\n",
        "print(\"Precision:\", precision)\n",
        "print('Recall:', recall)\n",
        "print('F1 score:', f1)"
      ]
    }
  ],
  "metadata": {
    "accelerator": "GPU",
    "colab": {
      "gpuType": "T4",
      "provenance": []
    },
    "gpuClass": "standard",
    "kernelspec": {
      "display_name": "Python 3",
      "name": "python3"
    },
    "language_info": {
      "codemirror_mode": {
        "name": "ipython",
        "version": 3
      },
      "file_extension": ".py",
      "mimetype": "text/x-python",
      "name": "python",
      "nbconvert_exporter": "python",
      "pygments_lexer": "ipython3",
      "version": "3.10.6"
    },
    "widgets": {
      "application/vnd.jupyter.widget-state+json": {
        "48efb55f21494196b2434d5bb8be99ed": {
          "model_module": "@jupyter-widgets/output",
          "model_module_version": "1.0.0",
          "model_name": "OutputModel",
          "state": {
            "_dom_classes": [],
            "_model_module": "@jupyter-widgets/output",
            "_model_module_version": "1.0.0",
            "_model_name": "OutputModel",
            "_view_count": null,
            "_view_module": "@jupyter-widgets/output",
            "_view_module_version": "1.0.0",
            "_view_name": "OutputView",
            "layout": "IPY_MODEL_80f98d6943724705827b200bce07acd5",
            "msg_id": "",
            "outputs": [
              {
                "data": {
                  "text/html": "<pre style=\"white-space:pre;overflow-x:auto;line-height:normal;font-family:Menlo,'DejaVu Sans Mono',consolas,'Courier New',monospace\">training... <span style=\"color: #3a3a3a; text-decoration-color: #3a3a3a\">━━━━━━━━━━━━━━━━━━━━━━━━━━━━━━━━━━━━━━━━</span> <span style=\"color: #800080; text-decoration-color: #800080\">  0%</span> <span style=\"color: #008080; text-decoration-color: #008080\">-:--:--</span>\n</pre>\n",
                  "text/plain": "training... \u001b[38;5;237m━━━━━━━━━━━━━━━━━━━━━━━━━━━━━━━━━━━━━━━━\u001b[0m \u001b[35m  0%\u001b[0m \u001b[36m-:--:--\u001b[0m\n"
                },
                "metadata": {},
                "output_type": "display_data"
              }
            ]
          }
        },
        "80f98d6943724705827b200bce07acd5": {
          "model_module": "@jupyter-widgets/base",
          "model_module_version": "1.2.0",
          "model_name": "LayoutModel",
          "state": {
            "_model_module": "@jupyter-widgets/base",
            "_model_module_version": "1.2.0",
            "_model_name": "LayoutModel",
            "_view_count": null,
            "_view_module": "@jupyter-widgets/base",
            "_view_module_version": "1.2.0",
            "_view_name": "LayoutView",
            "align_content": null,
            "align_items": null,
            "align_self": null,
            "border": null,
            "bottom": null,
            "display": null,
            "flex": null,
            "flex_flow": null,
            "grid_area": null,
            "grid_auto_columns": null,
            "grid_auto_flow": null,
            "grid_auto_rows": null,
            "grid_column": null,
            "grid_gap": null,
            "grid_row": null,
            "grid_template_areas": null,
            "grid_template_columns": null,
            "grid_template_rows": null,
            "height": null,
            "justify_content": null,
            "justify_items": null,
            "left": null,
            "margin": null,
            "max_height": null,
            "max_width": null,
            "min_height": null,
            "min_width": null,
            "object_fit": null,
            "object_position": null,
            "order": null,
            "overflow": null,
            "overflow_x": null,
            "overflow_y": null,
            "padding": null,
            "right": null,
            "top": null,
            "visibility": null,
            "width": null
          }
        }
      }
    }
  },
  "nbformat": 4,
  "nbformat_minor": 0
}
