{
 "cells": [
  {
   "cell_type": "code",
   "execution_count": null,
   "metadata": {},
   "outputs": [],
   "source": [
    "# CLONE REPOSITORY\n",
    "!git clone --branch T5 https://github.com/rolysr/medical-knowledge-discoverer\n",
    "\n",
    "# CREATE ENVIROMENT\n",
    "!python -m venv myenv\n",
    "!source myenv/bin/activate\n",
    "\n",
    "# INSTALL DEPENDECIES\n",
    "%cd /content/medical-knowledge-discoverer\n",
    "%pip install -r requirements.txt"
   ]
  },
  {
   "cell_type": "code",
   "execution_count": null,
   "metadata": {},
   "outputs": [],
   "source": [
    "!python -m spacy download es_core_news_lg\n",
    "\n",
    "from models.lstm_model.main import lstm\n",
    "\n",
    "lstm()"
   ]
  }
 ],
 "metadata": {
  "language_info": {
   "name": "python"
  },
  "orig_nbformat": 4
 },
 "nbformat": 4,
 "nbformat_minor": 2
}
